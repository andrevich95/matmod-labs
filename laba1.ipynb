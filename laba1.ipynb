{
 "cells": [
  {
   "cell_type": "code",
   "execution_count": 3,
   "metadata": {},
   "outputs": [],
   "source": [
    "from math import *\n",
    "import numpy as np\n",
    "import scipy.ndimage\n",
    "import matplotlib.pyplot as plt"
   ]
  },
  {
   "cell_type": "code",
   "execution_count": 16,
   "metadata": {},
   "outputs": [],
   "source": [
    "y = lambda x: pow((x-1),2)\n",
    "data = np.array([(i,y(i)) for i in np.linspace(0.,2.,20)])\n",
    "data_colocation = np.array([(data[i]+data[i+1])/2 for i in range(len(data)-1) ])"
   ]
  },
  {
   "cell_type": "code",
   "execution_count": 17,
   "metadata": {},
   "outputs": [
    {
     "data": {
      "text/plain": [
       "array([[0.        , 1.        ],\n",
       "       [0.10526316, 0.80055402],\n",
       "       [0.21052632, 0.6232687 ],\n",
       "       [0.31578947, 0.46814404],\n",
       "       [0.42105263, 0.33518006],\n",
       "       [0.52631579, 0.22437673],\n",
       "       [0.63157895, 0.13573407],\n",
       "       [0.73684211, 0.06925208],\n",
       "       [0.84210526, 0.02493075],\n",
       "       [0.94736842, 0.00277008],\n",
       "       [1.05263158, 0.00277008],\n",
       "       [1.15789474, 0.02493075],\n",
       "       [1.26315789, 0.06925208],\n",
       "       [1.36842105, 0.13573407],\n",
       "       [1.47368421, 0.22437673],\n",
       "       [1.57894737, 0.33518006],\n",
       "       [1.68421053, 0.46814404],\n",
       "       [1.78947368, 0.6232687 ],\n",
       "       [1.89473684, 0.80055402],\n",
       "       [2.        , 1.        ]])"
      ]
     },
     "execution_count": 17,
     "metadata": {},
     "output_type": "execute_result"
    }
   ],
   "source": [
    "data"
   ]
  },
  {
   "cell_type": "code",
   "execution_count": 18,
   "metadata": {},
   "outputs": [
    {
     "data": {
      "text/plain": [
       "array([[0.05263158, 0.90027701],\n",
       "       [0.15789474, 0.71191136],\n",
       "       [0.26315789, 0.54570637],\n",
       "       [0.36842105, 0.40166205],\n",
       "       [0.47368421, 0.27977839],\n",
       "       [0.57894737, 0.1800554 ],\n",
       "       [0.68421053, 0.10249307],\n",
       "       [0.78947368, 0.04709141],\n",
       "       [0.89473684, 0.01385042],\n",
       "       [1.        , 0.00277008],\n",
       "       [1.10526316, 0.01385042],\n",
       "       [1.21052632, 0.04709141],\n",
       "       [1.31578947, 0.10249307],\n",
       "       [1.42105263, 0.1800554 ],\n",
       "       [1.52631579, 0.27977839],\n",
       "       [1.63157895, 0.40166205],\n",
       "       [1.73684211, 0.54570637],\n",
       "       [1.84210526, 0.71191136],\n",
       "       [1.94736842, 0.90027701]])"
      ]
     },
     "execution_count": 18,
     "metadata": {},
     "output_type": "execute_result"
    }
   ],
   "source": [
    "data_colocation"
   ]
  },
  {
   "cell_type": "code",
   "execution_count": 19,
   "metadata": {},
   "outputs": [
    {
     "data": {
      "image/png": "[encoded data removed]",
      "text/plain": [
       "<Figure size 432x288 with 1 Axes>"
      ]
     },
     "metadata": {},
     "output_type": "display_data"
    }
   ],
   "source": [
    "plt.plot(data[:,0],data[:,1])\n",
    "plt.plot(data[:,0],data[:,1],'ro')\n",
    "plt.show()"
   ]
  },
  {
   "cell_type": "code",
   "execution_count": 20,
   "metadata": {},
   "outputs": [
    {
     "data": {
      "image/png": "[encoded data removed]",
      "text/plain": [
       "<Figure size 432x288 with 1 Axes>"
      ]
     },
     "metadata": {},
     "output_type": "display_data"
    }
   ],
   "source": [
    "plt.hist2d(data[:,0], data[:,1])\n",
    "plt.show()"
   ]
  },
  {
   "cell_type": "code",
   "execution_count": null,
   "metadata": {},
   "outputs": [],
   "source": [
    "def tau(array,j):\n",
    "    return (array[0,j+1] - array[0,j])/(sqrt(pow((array[0,j+1] - array[0,j]),2)+pow((),2)))\n",
    "    "
   ]
  }
 ],
 "metadata": {
  "kernelspec": {
   "display_name": "Python 3",
   "language": "python",
   "name": "python3"
  },
  "language_info": {
   "codemirror_mode": {
    "name": "ipython",
    "version": 3
   },
   "file_extension": ".py",
   "mimetype": "text/x-python",
   "name": "python",
   "nbconvert_exporter": "python",
   "pygments_lexer": "ipython3",
   "version": "3.5.2"
  }
 },
 "nbformat": 4,
 "nbformat_minor": 2
}
