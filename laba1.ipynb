{
 "cells": [
  {
   "cell_type": "code",
   "execution_count": 2,
   "metadata": {},
   "outputs": [],
   "source": [
    "from math import *\n",
    "import numpy as np\n",
    "import scipy.ndimage\n",
    "import matplotlib.pyplot as plt"
   ]
  },
  {
   "cell_type": "code",
   "execution_count": 61,
   "metadata": {},
   "outputs": [],
   "source": [
    "y = lambda x: pow((x-1),2)\n",
    "data = np.array([(i,y(i)) for i in np.linspace(0.,2.,20)])\n",
    "data_colocation = np.array([(data[i]+data[i+1])/2 for i in range(len(data)-1) ])"
   ]
  },
  {
   "cell_type": "code",
   "execution_count": 57,
   "metadata": {},
   "outputs": [
    {
     "data": {
      "text/plain": [
       "array([[-10.        , 121.        ],\n",
       "       [ -8.84210526,  96.86703601],\n",
       "       [ -7.68421053,  75.41551247],\n",
       "       [ -6.52631579,  56.64542936],\n",
       "       [ -5.36842105,  40.5567867 ],\n",
       "       [ -4.21052632,  27.14958449],\n",
       "       [ -3.05263158,  16.42382271],\n",
       "       [ -1.89473684,   8.37950139],\n",
       "       [ -0.73684211,   3.0166205 ],\n",
       "       [  0.42105263,   0.33518006],\n",
       "       [  1.57894737,   0.33518006],\n",
       "       [  2.73684211,   3.0166205 ],\n",
       "       [  3.89473684,   8.37950139],\n",
       "       [  5.05263158,  16.42382271],\n",
       "       [  6.21052632,  27.14958449],\n",
       "       [  7.36842105,  40.5567867 ],\n",
       "       [  8.52631579,  56.64542936],\n",
       "       [  9.68421053,  75.41551247],\n",
       "       [ 10.84210526,  96.86703601],\n",
       "       [ 12.        , 121.        ]])"
      ]
     },
     "execution_count": 57,
     "metadata": {},
     "output_type": "execute_result"
    }
   ],
   "source": [
    "data"
   ]
  },
  {
   "cell_type": "code",
   "execution_count": 58,
   "metadata": {},
   "outputs": [
    {
     "data": {
      "text/plain": [
       "array([[ -9.42105263, 108.93351801],\n",
       "       [ -8.26315789,  86.14127424],\n",
       "       [ -7.10526316,  66.03047091],\n",
       "       [ -5.94736842,  48.60110803],\n",
       "       [ -4.78947368,  33.8531856 ],\n",
       "       [ -3.63157895,  21.7867036 ],\n",
       "       [ -2.47368421,  12.40166205],\n",
       "       [ -1.31578947,   5.69806094],\n",
       "       [ -0.15789474,   1.67590028],\n",
       "       [  1.        ,   0.33518006],\n",
       "       [  2.15789474,   1.67590028],\n",
       "       [  3.31578947,   5.69806094],\n",
       "       [  4.47368421,  12.40166205],\n",
       "       [  5.63157895,  21.7867036 ],\n",
       "       [  6.78947368,  33.8531856 ],\n",
       "       [  7.94736842,  48.60110803],\n",
       "       [  9.10526316,  66.03047091],\n",
       "       [ 10.26315789,  86.14127424],\n",
       "       [ 11.42105263, 108.93351801]])"
      ]
     },
     "execution_count": 58,
     "metadata": {},
     "output_type": "execute_result"
    }
   ],
   "source": [
    "data_colocation"
   ]
  },
  {
   "cell_type": "code",
   "execution_count": 60,
   "metadata": {},
   "outputs": [
    {
     "data": {
      "image/png": "[encoded data removed]",
      "text/plain": [
       "<Figure size 432x288 with 1 Axes>"
      ]
     },
     "metadata": {},
     "output_type": "display_data"
    }
   ],
   "source": [
    "plt.plot(data[:,0],data[:,1])\n",
    "plt.plot(data[:,0],data[:,1],'ro')\n",
    "plt.show()"
   ]
  },
  {
   "cell_type": "code",
   "execution_count": 20,
   "metadata": {},
   "outputs": [
    {
     "data": {
      "image/png": "[encoded data removed]",
      "text/plain": [
       "<Figure size 432x288 with 1 Axes>"
      ]
     },
     "metadata": {},
     "output_type": "display_data"
    }
   ],
   "source": [
    "plt.hist2d(data[:,0], data[:,1])\n",
    "plt.show()"
   ]
  },
  {
   "cell_type": "code",
   "execution_count": null,
   "metadata": {},
   "outputs": [],
   "source": [
    "def tau(array,j):\n",
    "    return (array[0,j+1] - array[0,j])/(sqrt(pow((array[0,j+1] - array[0,j]),2)+pow((),2)))\n",
    "    "
   ]
  }
 ],
 "metadata": {
  "kernelspec": {
   "display_name": "Python 3",
   "language": "python",
   "name": "python3"
  },
  "language_info": {
   "codemirror_mode": {
    "name": "ipython",
    "version": 3
   },
   "file_extension": ".py",
   "mimetype": "text/x-python",
   "name": "python",
   "nbconvert_exporter": "python",
   "pygments_lexer": "ipython3",
   "version": "3.5.2"
  }
 },
 "nbformat": 4,
 "nbformat_minor": 2
}
