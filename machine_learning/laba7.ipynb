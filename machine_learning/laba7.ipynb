{
 "cells": [
  {
   "cell_type": "code",
   "execution_count": 3,
   "metadata": {},
   "outputs": [],
   "source": [
    "import numpy as np\n",
    "from itertools import combinations \n",
    "import copy"
   ]
  },
  {
   "cell_type": "code",
   "execution_count": 20,
   "metadata": {},
   "outputs": [],
   "source": [
    "#Function for optimization\n",
    "F = lambda x, y: 100/(100*(pow(x,2)-y)+pow(1-x,2)+1)\n",
    "limit = 1.28\n",
    "data = np.random.uniform(-limit,limit,200).reshape(100,2)\n",
    "start_kit = np.linspace(-limit,limit, num=255)"
   ]
  },
  {
   "cell_type": "code",
   "execution_count": 27,
   "metadata": {},
   "outputs": [],
   "source": [
    "class GeneticEvolution:\n",
    "    \n",
    "    def __init__(self, func, limit = 1.28, mut_prob=0.01, kill_portion=0.5, max_pairs=10):\n",
    "        self.func = func\n",
    "        self.population = [] # Current symbolic expression\n",
    "        self.points = []\n",
    "        self.mutation_probability = mut_prob\n",
    "        self.portion = kill_portion\n",
    "        self.max_pairs = max_pairs\n",
    "        self.lim = limit\n",
    "        \n",
    "    \n",
    "    # start population generate randomly\n",
    "    def generate_random_population(self, size=100):\n",
    "        data = np.random.uniform(-self.lim,self.lim,size*2).reshape(size,2)\n",
    "        start_kit = np.linspace(-self.lim,self.lim, num=255)\n",
    "        self.points = start_kit\n",
    "        self.population = data\n",
    "    \n",
    "    # init search\n",
    "    def initialize(self):\n",
    "        self.generate_random_population()\n",
    "    \n",
    "    # algorithm\n",
    "    def evolute(self, n_steps=1000):\n",
    "        n = 0\n",
    "        while n < n_steps and len(self.population) > 2:\n",
    "            print ('Step:', n)\n",
    "            n += 1\n",
    "            ind = 0\n",
    "            newpopulation = copy.copy(self.population) \n",
    "            for comb in combinations(range(len(self.population)), 2):\n",
    "                ind += 1\n",
    "                if ind > self.max_pairs:\n",
    "                    break\n",
    "                a = self.mutate(self.population[comb[0]])\n",
    "                b = self.mutate(self.population[comb[1]])\n",
    "                newitem = self.crossover(a, b)\n",
    "                np.append(newpopulation,newitem)\n",
    "            self.population = self.killing(newpopulation)\n",
    "            print('Temp result:', [self.func(x,y) for x, y in self.population])\n",
    "        return np.min([self.func(x,y) for x, y in self.population])\n",
    "\n",
    "    def killing(self, population):\n",
    "        res = np.argsort([self.func(*item) for item in population])\n",
    "        res = res[:np.random.poisson(int(len(population) * self.portion))]\n",
    "        return np.array(population)[res].tolist()\n",
    "                \n",
    "    # crossover\n",
    "    def crossover(self, a, b, prob=0.5):\n",
    "        #return [np.bitwise_xor(self.num_of(a[0]),self.num_of(b[0])), np.bitwise_xor(self.num_of(a[1]),self.num_of(b[1]))]\n",
    "        if np.random.rand() >  prob:\n",
    "            return [a[0], b[1]]\n",
    "        else:\n",
    "            return [b[0], a[1]]\n",
    "    \n",
    "    def num_of(self, a):\n",
    "        return (np.abs(self.points - a)).argmin()\n",
    "\n",
    "    # mutation \n",
    "    def mutate(self, a):\n",
    "        if np.random.rand() < self.mutation_probability:\n",
    "            newa = a + (np.random.rand(2) - 0.5)*0.05\n",
    "        else:\n",
    "            newa = a\n",
    "        return newa"
   ]
  },
  {
   "cell_type": "code",
   "execution_count": 28,
   "metadata": {},
   "outputs": [
    {
     "name": "stdout",
     "output_type": "stream",
     "text": [
      "Step: 0\n",
      "Temp result: [-21.71836083289093, -11.586070213700667, -11.572399534338553, -7.4356802573648215, -6.606457662973292, -5.626512319460461, -4.445600767590816, -3.897281756198352, -3.201630219396172, -3.042282937906549, -3.034997281149786, -3.0220018386771352, -2.707572051883711, -2.6832042254320565, -2.661881712059149, -2.6079113347175795, -2.3019516061252685, -1.7808651476482116, -1.5686837309157238, -1.5294091304112434, -1.3895735602102675, -1.2823952450646625, -1.2733516287582398, -1.2458989632120796, -1.236548187874199, -1.2183617542383838, -1.2121852337435675, -1.1716803382241827, -1.1113602799154447, -1.0112715365434513, -0.9753669487646082, -0.9428197943888121, -0.9299684888211369, -0.9158156956153944, -0.8421305551500271, 0.39489558694686994, 0.42065858420553814, 0.45786646715395724, 0.47745013317935325, 0.4874791945201843, 0.49822726957007873, 0.5037497556733533, 0.5225335376646187, 0.5236998488207473, 0.5319982035405669, 0.5333558056176424, 0.5350209941985723, 0.554195718822334, 0.5620129995848991, 0.6049009337272232, 0.6049254282408336]\n",
      "Step: 1\n",
      "Temp result: [-21.71836083289093, -11.586070213700667, -11.572399534338553, -7.4356802573648215, -6.606457662973292, -5.626512319460461, -4.445600767590816, -3.897281756198352, -3.201630219396172, -3.042282937906549, -3.034997281149786, -3.0220018386771352, -2.707572051883711, -2.6832042254320565, -2.661881712059149, -2.6079113347175795, -2.3019516061252685, -1.7808651476482116, -1.5686837309157238, -1.5294091304112434, -1.3895735602102675, -1.2823952450646625, -1.2733516287582398, -1.2458989632120796, -1.236548187874199, -1.2183617542383838, -1.2121852337435675, -1.1716803382241827, -1.1113602799154447, -1.0112715365434513]\n",
      "Step: 2\n",
      "Temp result: [-21.71836083289093, -11.586070213700667, -11.572399534338553, -7.4356802573648215, -6.606457662973292, -5.626512319460461, -4.445600767590816, -3.897281756198352, -3.201630219396172, -3.042282937906549, -3.034997281149786, -3.0220018386771352, -2.707572051883711, -2.6832042254320565, -2.661881712059149, -2.6079113347175795]\n",
      "Step: 3\n",
      "Temp result: [-21.71836083289093, -11.586070213700667, -11.572399534338553, -7.4356802573648215, -6.606457662973292]\n",
      "Step: 4\n",
      "Temp result: [-21.71836083289093, -11.586070213700667]\n"
     ]
    }
   ],
   "source": [
    "g = GeneticEvolution(func = F)\n",
    "g.initialize()\n",
    "res = g.evolute()"
   ]
  },
  {
   "cell_type": "code",
   "execution_count": 29,
   "metadata": {},
   "outputs": [
    {
     "name": "stdout",
     "output_type": "stream",
     "text": [
      "Optimization result: -21.71836083289093\n"
     ]
    }
   ],
   "source": [
    "print ('Optimization result:', res)"
   ]
  },
  {
   "cell_type": "code",
   "execution_count": null,
   "metadata": {},
   "outputs": [],
   "source": []
  }
 ],
 "metadata": {
  "kernelspec": {
   "display_name": "Python 3",
   "language": "python",
   "name": "python3"
  },
  "language_info": {
   "codemirror_mode": {
    "name": "ipython",
    "version": 3
   },
   "file_extension": ".py",
   "mimetype": "text/x-python",
   "name": "python",
   "nbconvert_exporter": "python",
   "pygments_lexer": "ipython3",
   "version": "3.5.2"
  }
 },
 "nbformat": 4,
 "nbformat_minor": 2
}
