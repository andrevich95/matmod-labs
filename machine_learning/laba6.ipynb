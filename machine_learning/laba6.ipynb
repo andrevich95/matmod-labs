{
 "cells": [
  {
   "cell_type": "code",
   "execution_count": 49,
   "metadata": {},
   "outputs": [],
   "source": [
    "from scipy import *\n",
    "from scipy.optimize import leastsq\n",
    "import matplotlib.pylab as plt\n",
    "import numpy as np\n",
    "from math import *\n",
    "from itertools import combinations\n",
    "from pytexit import py2tex"
   ]
  },
  {
   "cell_type": "code",
   "execution_count": 50,
   "metadata": {},
   "outputs": [],
   "source": [
    "x = np.array([4,5,9])\n",
    "y = 12"
   ]
  },
  {
   "cell_type": "code",
   "execution_count": 97,
   "metadata": {},
   "outputs": [],
   "source": [
    "residuals = lambda p, y, x: y-pval(x,p)\n",
    "\n",
    "pval = lambda x, a: a[0] + a[1]*x\n",
    "\n",
    "data = np.random.randn(100,2)\n",
    "\n",
    "x = data[:,0]\n",
    "y = data[:,1]\n",
    "\n",
    "X = np.array([4,5,9])\n",
    "\n",
    "pname = (['A1','A2'])\n",
    "p0 = [np.array(i) for i in combinations(X,2)]\n",
    "plsqAll = [leastsq(residuals, pi, args=(y, x), maxfev=10) for pi in p0]"
   ]
  },
  {
   "cell_type": "code",
   "execution_count": 99,
   "metadata": {},
   "outputs": [
    {
     "name": "stdout",
     "output_type": "stream",
     "text": [
      "[0.13661162 0.03132435]\n",
      "79.52318186146235\n",
      "[0.13661161 0.03132435]\n",
      "79.52318186857738\n",
      "[0.13661162 0.03132436]\n",
      "79.52318204151354\n"
     ]
    },
    {
     "data": {
      "image/png": "[encoded data removed]",
      "text/plain": [
       "<Figure size 432x288 with 1 Axes>"
      ]
     },
     "metadata": {},
     "output_type": "display_data"
    }
   ],
   "source": [
    "for plsq in plsqAll:\n",
    "    plt.plot(x,y,'ko',x,pval(x,plsq[0]),'r')\n",
    "    plt.title('Least-squares fit to data')\n",
    "    plt.xlabel('x')\n",
    "    plt.ylabel('y')\n",
    "    plt.legend(['Data', 'Fit'],loc=4)\n",
    "\n",
    "    print (plsq[0])\n",
    "\n",
    "    resid = sum(np.sqrt((y-pval(x,plsq[0]))**2))\n",
    "    print (resid)"
   ]
  },
  {
   "cell_type": "code",
   "execution_count": 125,
   "metadata": {},
   "outputs": [
    {
     "data": {
      "text/latex": [
       "$$y=0.13661161519147763+0.03132434776999177x_1 x_2$$"
      ],
      "text/plain": [
       "<IPython.core.display.Latex object>"
      ]
     },
     "metadata": {},
     "output_type": "display_data"
    },
    {
     "name": "stdout",
     "output_type": "stream",
     "text": [
      "$$y=0.13661161519147763+0.03132434776999177x_1 x_2$$\n",
      "$$y=0.13661161519147763+0.03132434776999177x_1 x_2$$\n"
     ]
    }
   ],
   "source": [
    "form = plsqAll[0][0]\n",
    "res = py2tex('y = {} + {} * x_1 * x_2'.format(form[0],form[1]))\n",
    "print(res)"
   ]
  },
  {
   "cell_type": "code",
   "execution_count": null,
   "metadata": {},
   "outputs": [],
   "source": []
  }
 ],
 "metadata": {
  "kernelspec": {
   "display_name": "Python 3",
   "language": "python",
   "name": "python3"
  },
  "language_info": {
   "codemirror_mode": {
    "name": "ipython",
    "version": 3
   },
   "file_extension": ".py",
   "mimetype": "text/x-python",
   "name": "python",
   "nbconvert_exporter": "python",
   "pygments_lexer": "ipython3",
   "version": "3.5.2"
  }
 },
 "nbformat": 4,
 "nbformat_minor": 2
}
